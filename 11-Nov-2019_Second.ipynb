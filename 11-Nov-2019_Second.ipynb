{
 "cells": [
  {
   "cell_type": "code",
   "execution_count": 1,
   "metadata": {
    "collapsed": true
   },
   "outputs": [
    {
     "data": {
      "text/html": [
       "<div>\n",
       "<style scoped>\n",
       "    .dataframe tbody tr th:only-of-type {\n",
       "        vertical-align: middle;\n",
       "    }\n",
       "\n",
       "    .dataframe tbody tr th {\n",
       "        vertical-align: top;\n",
       "    }\n",
       "\n",
       "    .dataframe thead th {\n",
       "        text-align: right;\n",
       "    }\n",
       "</style>\n",
       "<table border=\"1\" class=\"dataframe\">\n",
       "  <thead>\n",
       "    <tr style=\"text-align: right;\">\n",
       "      <th></th>\n",
       "      <th>InvoiceNo</th>\n",
       "      <th>StockCode</th>\n",
       "      <th>Description</th>\n",
       "      <th>Quantity</th>\n",
       "      <th>InvoiceDate</th>\n",
       "      <th>UnitPrice</th>\n",
       "      <th>CustomerID</th>\n",
       "      <th>Country</th>\n",
       "    </tr>\n",
       "  </thead>\n",
       "  <tbody>\n",
       "    <tr>\n",
       "      <th>0</th>\n",
       "      <td>536365</td>\n",
       "      <td>85123A</td>\n",
       "      <td>WHITE HANGING HEART T-LIGHT HOLDER</td>\n",
       "      <td>6</td>\n",
       "      <td>01-12-2010 08:26</td>\n",
       "      <td>2.55</td>\n",
       "      <td>17850.0</td>\n",
       "      <td>United Kingdom</td>\n",
       "    </tr>\n",
       "    <tr>\n",
       "      <th>1</th>\n",
       "      <td>536365</td>\n",
       "      <td>71053</td>\n",
       "      <td>WHITE METAL LANTERN</td>\n",
       "      <td>6</td>\n",
       "      <td>01-12-2010 08:26</td>\n",
       "      <td>3.39</td>\n",
       "      <td>17850.0</td>\n",
       "      <td>United Kingdom</td>\n",
       "    </tr>\n",
       "    <tr>\n",
       "      <th>2</th>\n",
       "      <td>536365</td>\n",
       "      <td>84406B</td>\n",
       "      <td>CREAM CUPID HEARTS COAT HANGER</td>\n",
       "      <td>8</td>\n",
       "      <td>01-12-2010 08:26</td>\n",
       "      <td>2.75</td>\n",
       "      <td>17850.0</td>\n",
       "      <td>United Kingdom</td>\n",
       "    </tr>\n",
       "    <tr>\n",
       "      <th>3</th>\n",
       "      <td>536365</td>\n",
       "      <td>84029G</td>\n",
       "      <td>KNITTED UNION FLAG HOT WATER BOTTLE</td>\n",
       "      <td>6</td>\n",
       "      <td>01-12-2010 08:26</td>\n",
       "      <td>3.39</td>\n",
       "      <td>17850.0</td>\n",
       "      <td>United Kingdom</td>\n",
       "    </tr>\n",
       "    <tr>\n",
       "      <th>4</th>\n",
       "      <td>536365</td>\n",
       "      <td>84029E</td>\n",
       "      <td>RED WOOLLY HOTTIE WHITE HEART.</td>\n",
       "      <td>6</td>\n",
       "      <td>01-12-2010 08:26</td>\n",
       "      <td>3.39</td>\n",
       "      <td>17850.0</td>\n",
       "      <td>United Kingdom</td>\n",
       "    </tr>\n",
       "  </tbody>\n",
       "</table>\n",
       "</div>"
      ],
      "text/plain": [
       "  InvoiceNo StockCode                          Description  Quantity  \\\n",
       "0    536365    85123A   WHITE HANGING HEART T-LIGHT HOLDER         6   \n",
       "1    536365     71053                  WHITE METAL LANTERN         6   \n",
       "2    536365    84406B       CREAM CUPID HEARTS COAT HANGER         8   \n",
       "3    536365    84029G  KNITTED UNION FLAG HOT WATER BOTTLE         6   \n",
       "4    536365    84029E       RED WOOLLY HOTTIE WHITE HEART.         6   \n",
       "\n",
       "        InvoiceDate  UnitPrice  CustomerID         Country  \n",
       "0  01-12-2010 08:26       2.55     17850.0  United Kingdom  \n",
       "1  01-12-2010 08:26       3.39     17850.0  United Kingdom  \n",
       "2  01-12-2010 08:26       2.75     17850.0  United Kingdom  \n",
       "3  01-12-2010 08:26       3.39     17850.0  United Kingdom  \n",
       "4  01-12-2010 08:26       3.39     17850.0  United Kingdom  "
      ]
     },
     "execution_count": 1,
     "metadata": {},
     "output_type": "execute_result"
    }
   ],
   "source": [
    "import pandas as pd\n",
    "data = pd.read_csv('Online+Retail.csv',\\\n",
    "            encoding='ISO-8859-1')\n",
    "data.head()"
   ]
  },
  {
   "cell_type": "code",
   "execution_count": 2,
   "metadata": {
    "collapsed": true
   },
   "outputs": [
    {
     "data": {
      "text/plain": [
       "Index(['InvoiceNo', 'StockCode', 'Description', 'Quantity', 'InvoiceDate',\n",
       "       'UnitPrice', 'CustomerID', 'Country'],\n",
       "      dtype='object')"
      ]
     },
     "execution_count": 2,
     "metadata": {},
     "output_type": "execute_result"
    }
   ],
   "source": [
    "data.columns"
   ]
  },
  {
   "cell_type": "code",
   "execution_count": 3,
   "metadata": {},
   "outputs": [
    {
     "data": {
      "text/plain": [
       "(541909, 8)"
      ]
     },
     "execution_count": 3,
     "metadata": {},
     "output_type": "execute_result"
    }
   ],
   "source": [
    "data.shape"
   ]
  },
  {
   "cell_type": "code",
   "execution_count": 4,
   "metadata": {},
   "outputs": [
    {
     "data": {
      "text/plain": [
       "4372"
      ]
     },
     "execution_count": 4,
     "metadata": {},
     "output_type": "execute_result"
    }
   ],
   "source": [
    "data.CustomerID.nunique()"
   ]
  },
  {
   "cell_type": "code",
   "execution_count": 5,
   "metadata": {},
   "outputs": [],
   "source": [
    "data['Amount'] = data['Quantity'] * \\\n",
    "            data['UnitPrice'] "
   ]
  },
  {
   "cell_type": "code",
   "execution_count": 6,
   "metadata": {},
   "outputs": [
    {
     "data": {
      "text/html": [
       "<div>\n",
       "<style scoped>\n",
       "    .dataframe tbody tr th:only-of-type {\n",
       "        vertical-align: middle;\n",
       "    }\n",
       "\n",
       "    .dataframe tbody tr th {\n",
       "        vertical-align: top;\n",
       "    }\n",
       "\n",
       "    .dataframe thead th {\n",
       "        text-align: right;\n",
       "    }\n",
       "</style>\n",
       "<table border=\"1\" class=\"dataframe\">\n",
       "  <thead>\n",
       "    <tr style=\"text-align: right;\">\n",
       "      <th></th>\n",
       "      <th>Amount</th>\n",
       "      <th>Quantity</th>\n",
       "      <th>UnitPrice</th>\n",
       "    </tr>\n",
       "  </thead>\n",
       "  <tbody>\n",
       "    <tr>\n",
       "      <th>0</th>\n",
       "      <td>15.30</td>\n",
       "      <td>6</td>\n",
       "      <td>2.55</td>\n",
       "    </tr>\n",
       "    <tr>\n",
       "      <th>1</th>\n",
       "      <td>20.34</td>\n",
       "      <td>6</td>\n",
       "      <td>3.39</td>\n",
       "    </tr>\n",
       "    <tr>\n",
       "      <th>2</th>\n",
       "      <td>22.00</td>\n",
       "      <td>8</td>\n",
       "      <td>2.75</td>\n",
       "    </tr>\n",
       "    <tr>\n",
       "      <th>3</th>\n",
       "      <td>20.34</td>\n",
       "      <td>6</td>\n",
       "      <td>3.39</td>\n",
       "    </tr>\n",
       "    <tr>\n",
       "      <th>4</th>\n",
       "      <td>20.34</td>\n",
       "      <td>6</td>\n",
       "      <td>3.39</td>\n",
       "    </tr>\n",
       "  </tbody>\n",
       "</table>\n",
       "</div>"
      ],
      "text/plain": [
       "   Amount  Quantity  UnitPrice\n",
       "0   15.30         6       2.55\n",
       "1   20.34         6       3.39\n",
       "2   22.00         8       2.75\n",
       "3   20.34         6       3.39\n",
       "4   20.34         6       3.39"
      ]
     },
     "execution_count": 6,
     "metadata": {},
     "output_type": "execute_result"
    }
   ],
   "source": [
    "data[['Amount','Quantity','UnitPrice']].head()"
   ]
  },
  {
   "cell_type": "code",
   "execution_count": 8,
   "metadata": {},
   "outputs": [
    {
     "data": {
      "text/plain": [
       "dtype('float64')"
      ]
     },
     "execution_count": 8,
     "metadata": {},
     "output_type": "execute_result"
    }
   ],
   "source": [
    "data.CustomerID.dtype"
   ]
  },
  {
   "cell_type": "code",
   "execution_count": 7,
   "metadata": {
    "collapsed": true
   },
   "outputs": [
    {
     "data": {
      "text/plain": [
       "17841.0    7983\n",
       "14911.0    5903\n",
       "14096.0    5128\n",
       "12748.0    4642\n",
       "14606.0    2782\n",
       "15311.0    2491\n",
       "14646.0    2085\n",
       "13089.0    1857\n",
       "13263.0    1677\n",
       "14298.0    1640\n",
       "15039.0    1508\n",
       "14156.0    1420\n",
       "18118.0    1284\n",
       "14159.0    1212\n",
       "14796.0    1165\n",
       "15005.0    1160\n",
       "16033.0    1152\n",
       "14056.0    1128\n",
       "14769.0    1094\n",
       "17511.0    1076\n",
       "13081.0    1061\n",
       "14527.0    1011\n",
       "16549.0     981\n",
       "14456.0     977\n",
       "15719.0     938\n",
       "15555.0     925\n",
       "16931.0     898\n",
       "17811.0     872\n",
       "14505.0     803\n",
       "12415.0     778\n",
       "           ... \n",
       "15590.0       1\n",
       "16078.0       1\n",
       "16093.0       1\n",
       "13703.0       1\n",
       "18068.0       1\n",
       "14705.0       1\n",
       "16138.0       1\n",
       "16144.0       1\n",
       "16148.0       1\n",
       "15562.0       1\n",
       "15524.0       1\n",
       "12503.0       1\n",
       "12505.0       1\n",
       "15510.0       1\n",
       "15316.0       1\n",
       "17956.0       1\n",
       "17948.0       1\n",
       "16323.0       1\n",
       "14090.0       1\n",
       "17925.0       1\n",
       "17923.0       1\n",
       "16428.0       1\n",
       "14119.0       1\n",
       "15389.0       1\n",
       "15369.0       1\n",
       "13391.0       1\n",
       "16579.0       1\n",
       "13366.0       1\n",
       "17763.0       1\n",
       "17846.0       1\n",
       "Name: CustomerID, Length: 4372, dtype: int64"
      ]
     },
     "execution_count": 7,
     "metadata": {},
     "output_type": "execute_result"
    }
   ],
   "source": [
    "data.CustomerID.value_counts()"
   ]
  },
  {
   "cell_type": "code",
   "execution_count": 10,
   "metadata": {},
   "outputs": [
    {
     "data": {
      "text/plain": [
       "40340.78"
      ]
     },
     "execution_count": 10,
     "metadata": {},
     "output_type": "execute_result"
    }
   ],
   "source": [
    "data.Amount[data.CustomerID==17841.0].sum()"
   ]
  },
  {
   "cell_type": "code",
   "execution_count": 15,
   "metadata": {
    "collapsed": true
   },
   "outputs": [
    {
     "data": {
      "text/plain": [
       "CustomerID\n",
       "12346.0    0.000000e+00\n",
       "12347.0    4.310000e+03\n",
       "12348.0    1.797240e+03\n",
       "12349.0    1.757550e+03\n",
       "12350.0    3.344000e+02\n",
       "12352.0    1.545410e+03\n",
       "12353.0    8.900000e+01\n",
       "12354.0    1.079400e+03\n",
       "12355.0    4.594000e+02\n",
       "12356.0    2.811430e+03\n",
       "12357.0    6.207670e+03\n",
       "12358.0    1.168060e+03\n",
       "12359.0    6.245530e+03\n",
       "12360.0    2.662060e+03\n",
       "12361.0    1.899000e+02\n",
       "12362.0    5.154580e+03\n",
       "12363.0    5.520000e+02\n",
       "12364.0    1.313100e+03\n",
       "12365.0    3.206900e+02\n",
       "12367.0    1.689000e+02\n",
       "12370.0    3.545690e+03\n",
       "12371.0    1.887960e+03\n",
       "12372.0    1.298040e+03\n",
       "12373.0    3.646000e+02\n",
       "12374.0    7.429300e+02\n",
       "12375.0    4.554200e+02\n",
       "12377.0    1.628120e+03\n",
       "12378.0    4.008620e+03\n",
       "12379.0    8.502900e+02\n",
       "12380.0    2.720560e+03\n",
       "               ...     \n",
       "18245.0    2.507560e+03\n",
       "18246.0    5.961000e+02\n",
       "18248.0    7.830200e+02\n",
       "18249.0    9.534000e+01\n",
       "18250.0    3.429200e+02\n",
       "18251.0    4.314720e+03\n",
       "18252.0    5.266700e+02\n",
       "18255.0    1.033000e+02\n",
       "18256.0   -5.010000e+01\n",
       "18257.0    2.265380e+03\n",
       "18259.0    2.338600e+03\n",
       "18260.0    2.595000e+03\n",
       "18261.0    3.242400e+02\n",
       "18262.0    1.494800e+02\n",
       "18263.0    1.211080e+03\n",
       "18265.0    8.015100e+02\n",
       "18268.0    0.000000e+00\n",
       "18269.0    1.389000e+02\n",
       "18270.0    2.389500e+02\n",
       "18272.0    3.064780e+03\n",
       "18273.0    2.040000e+02\n",
       "18274.0    1.243450e-14\n",
       "18276.0    3.233600e+02\n",
       "18277.0    9.763000e+01\n",
       "18278.0    1.739000e+02\n",
       "18280.0    1.806000e+02\n",
       "18281.0    8.082000e+01\n",
       "18282.0    1.766000e+02\n",
       "18283.0    2.094880e+03\n",
       "18287.0    1.837280e+03\n",
       "Name: Amount, Length: 4372, dtype: float64"
      ]
     },
     "execution_count": 15,
     "metadata": {},
     "output_type": "execute_result"
    }
   ],
   "source": [
    "monetary = data.groupby('CustomerID')\\\n",
    "                ['Amount'].sum()\n",
    "monetary"
   ]
  },
  {
   "cell_type": "code",
   "execution_count": 16,
   "metadata": {
    "collapsed": true
   },
   "outputs": [
    {
     "data": {
      "text/html": [
       "<div>\n",
       "<style scoped>\n",
       "    .dataframe tbody tr th:only-of-type {\n",
       "        vertical-align: middle;\n",
       "    }\n",
       "\n",
       "    .dataframe tbody tr th {\n",
       "        vertical-align: top;\n",
       "    }\n",
       "\n",
       "    .dataframe thead th {\n",
       "        text-align: right;\n",
       "    }\n",
       "</style>\n",
       "<table border=\"1\" class=\"dataframe\">\n",
       "  <thead>\n",
       "    <tr style=\"text-align: right;\">\n",
       "      <th></th>\n",
       "      <th>CustomerID</th>\n",
       "      <th>Amount</th>\n",
       "    </tr>\n",
       "  </thead>\n",
       "  <tbody>\n",
       "    <tr>\n",
       "      <th>0</th>\n",
       "      <td>12346.0</td>\n",
       "      <td>0.00</td>\n",
       "    </tr>\n",
       "    <tr>\n",
       "      <th>1</th>\n",
       "      <td>12347.0</td>\n",
       "      <td>4310.00</td>\n",
       "    </tr>\n",
       "    <tr>\n",
       "      <th>2</th>\n",
       "      <td>12348.0</td>\n",
       "      <td>1797.24</td>\n",
       "    </tr>\n",
       "    <tr>\n",
       "      <th>3</th>\n",
       "      <td>12349.0</td>\n",
       "      <td>1757.55</td>\n",
       "    </tr>\n",
       "    <tr>\n",
       "      <th>4</th>\n",
       "      <td>12350.0</td>\n",
       "      <td>334.40</td>\n",
       "    </tr>\n",
       "  </tbody>\n",
       "</table>\n",
       "</div>"
      ],
      "text/plain": [
       "   CustomerID   Amount\n",
       "0     12346.0     0.00\n",
       "1     12347.0  4310.00\n",
       "2     12348.0  1797.24\n",
       "3     12349.0  1757.55\n",
       "4     12350.0   334.40"
      ]
     },
     "execution_count": 16,
     "metadata": {},
     "output_type": "execute_result"
    }
   ],
   "source": [
    "monetary = monetary.reset_index()\n",
    "monetary.head()"
   ]
  },
  {
   "cell_type": "code",
   "execution_count": 17,
   "metadata": {},
   "outputs": [
    {
     "data": {
      "text/plain": [
       "(4372, 2)"
      ]
     },
     "execution_count": 17,
     "metadata": {},
     "output_type": "execute_result"
    }
   ],
   "source": [
    "monetary.shape"
   ]
  },
  {
   "cell_type": "code",
   "execution_count": 19,
   "metadata": {},
   "outputs": [
    {
     "data": {
      "text/plain": [
       "dtype('O')"
      ]
     },
     "execution_count": 19,
     "metadata": {},
     "output_type": "execute_result"
    }
   ],
   "source": [
    "data.InvoiceDate.dtype"
   ]
  },
  {
   "cell_type": "code",
   "execution_count": 22,
   "metadata": {},
   "outputs": [
    {
     "data": {
      "text/plain": [
       "522867    04-12-2011 12:32\n",
       "57751     14-01-2011 14:06\n",
       "Name: InvoiceDate, dtype: object"
      ]
     },
     "execution_count": 22,
     "metadata": {},
     "output_type": "execute_result"
    }
   ],
   "source": [
    "data.InvoiceDate.sample(2)"
   ]
  },
  {
   "cell_type": "code",
   "execution_count": 23,
   "metadata": {
    "collapsed": true
   },
   "outputs": [
    {
     "data": {
      "text/plain": [
       "0        2010-12-01 08:26:00\n",
       "1        2010-12-01 08:26:00\n",
       "2        2010-12-01 08:26:00\n",
       "3        2010-12-01 08:26:00\n",
       "4        2010-12-01 08:26:00\n",
       "5        2010-12-01 08:26:00\n",
       "6        2010-12-01 08:26:00\n",
       "7        2010-12-01 08:28:00\n",
       "8        2010-12-01 08:28:00\n",
       "9        2010-12-01 08:34:00\n",
       "10       2010-12-01 08:34:00\n",
       "11       2010-12-01 08:34:00\n",
       "12       2010-12-01 08:34:00\n",
       "13       2010-12-01 08:34:00\n",
       "14       2010-12-01 08:34:00\n",
       "15       2010-12-01 08:34:00\n",
       "16       2010-12-01 08:34:00\n",
       "17       2010-12-01 08:34:00\n",
       "18       2010-12-01 08:34:00\n",
       "19       2010-12-01 08:34:00\n",
       "20       2010-12-01 08:34:00\n",
       "21       2010-12-01 08:34:00\n",
       "22       2010-12-01 08:34:00\n",
       "23       2010-12-01 08:34:00\n",
       "24       2010-12-01 08:34:00\n",
       "25       2010-12-01 08:35:00\n",
       "26       2010-12-01 08:45:00\n",
       "27       2010-12-01 08:45:00\n",
       "28       2010-12-01 08:45:00\n",
       "29       2010-12-01 08:45:00\n",
       "                 ...        \n",
       "541879   2011-12-09 12:31:00\n",
       "541880   2011-12-09 12:31:00\n",
       "541881   2011-12-09 12:31:00\n",
       "541882   2011-12-09 12:31:00\n",
       "541883   2011-12-09 12:31:00\n",
       "541884   2011-12-09 12:31:00\n",
       "541885   2011-12-09 12:31:00\n",
       "541886   2011-12-09 12:31:00\n",
       "541887   2011-12-09 12:31:00\n",
       "541888   2011-12-09 12:31:00\n",
       "541889   2011-12-09 12:31:00\n",
       "541890   2011-12-09 12:49:00\n",
       "541891   2011-12-09 12:49:00\n",
       "541892   2011-12-09 12:49:00\n",
       "541893   2011-12-09 12:49:00\n",
       "541894   2011-12-09 12:50:00\n",
       "541895   2011-12-09 12:50:00\n",
       "541896   2011-12-09 12:50:00\n",
       "541897   2011-12-09 12:50:00\n",
       "541898   2011-12-09 12:50:00\n",
       "541899   2011-12-09 12:50:00\n",
       "541900   2011-12-09 12:50:00\n",
       "541901   2011-12-09 12:50:00\n",
       "541902   2011-12-09 12:50:00\n",
       "541903   2011-12-09 12:50:00\n",
       "541904   2011-12-09 12:50:00\n",
       "541905   2011-12-09 12:50:00\n",
       "541906   2011-12-09 12:50:00\n",
       "541907   2011-12-09 12:50:00\n",
       "541908   2011-12-09 12:50:00\n",
       "Name: InvoiceDate, Length: 541909, dtype: datetime64[ns]"
      ]
     },
     "execution_count": 23,
     "metadata": {},
     "output_type": "execute_result"
    }
   ],
   "source": [
    "pd.to_datetime(data.InvoiceDate,\n",
    "               format='%d-%m-%Y %H:%M')"
   ]
  },
  {
   "cell_type": "code",
   "execution_count": 24,
   "metadata": {},
   "outputs": [
    {
     "data": {
      "text/plain": [
       "dtype('O')"
      ]
     },
     "execution_count": 24,
     "metadata": {},
     "output_type": "execute_result"
    }
   ],
   "source": [
    "data.InvoiceDate.dtype"
   ]
  },
  {
   "cell_type": "code",
   "execution_count": 25,
   "metadata": {},
   "outputs": [],
   "source": [
    "data.InvoiceDate = pd.to_datetime(\\\n",
    "    data.InvoiceDate,format='%d-%m-%Y %H:%M')"
   ]
  },
  {
   "cell_type": "code",
   "execution_count": 26,
   "metadata": {},
   "outputs": [
    {
     "data": {
      "text/plain": [
       "0   2010-12-01 08:26:00\n",
       "1   2010-12-01 08:26:00\n",
       "2   2010-12-01 08:26:00\n",
       "3   2010-12-01 08:26:00\n",
       "4   2010-12-01 08:26:00\n",
       "Name: InvoiceDate, dtype: datetime64[ns]"
      ]
     },
     "execution_count": 26,
     "metadata": {},
     "output_type": "execute_result"
    }
   ],
   "source": [
    "data.InvoiceDate[:5]"
   ]
  },
  {
   "cell_type": "code",
   "execution_count": 27,
   "metadata": {},
   "outputs": [
    {
     "data": {
      "text/plain": [
       "Timestamp('2011-12-09 12:50:00')"
      ]
     },
     "execution_count": 27,
     "metadata": {},
     "output_type": "execute_result"
    }
   ],
   "source": [
    "data.InvoiceDate.max()"
   ]
  },
  {
   "cell_type": "code",
   "execution_count": 28,
   "metadata": {},
   "outputs": [],
   "source": [
    "data['Diff'] = data.InvoiceDate.max() - \\\n",
    "                            data.InvoiceDate"
   ]
  },
  {
   "cell_type": "code",
   "execution_count": 29,
   "metadata": {
    "collapsed": true
   },
   "outputs": [
    {
     "data": {
      "text/plain": [
       "0   373 days 04:24:00\n",
       "1   373 days 04:24:00\n",
       "2   373 days 04:24:00\n",
       "3   373 days 04:24:00\n",
       "4   373 days 04:24:00\n",
       "Name: Diff, dtype: timedelta64[ns]"
      ]
     },
     "execution_count": 29,
     "metadata": {},
     "output_type": "execute_result"
    }
   ],
   "source": [
    "data['Diff'][:5]"
   ]
  },
  {
   "cell_type": "code",
   "execution_count": 32,
   "metadata": {
    "collapsed": true
   },
   "outputs": [
    {
     "data": {
      "text/plain": [
       "0    374\n",
       "1    374\n",
       "2    374\n",
       "3    374\n",
       "4    374\n",
       "Name: Diff, dtype: int64"
      ]
     },
     "execution_count": 32,
     "metadata": {},
     "output_type": "execute_result"
    }
   ],
   "source": [
    "data['Diff'] = data['Diff'].dt.days + 1\n",
    "data['Diff'][:5]"
   ]
  },
  {
   "cell_type": "code",
   "execution_count": 34,
   "metadata": {},
   "outputs": [
    {
     "data": {
      "text/plain": [
       "2"
      ]
     },
     "execution_count": 34,
     "metadata": {},
     "output_type": "execute_result"
    }
   ],
   "source": [
    "data.Diff[data.CustomerID==17841.0].min()"
   ]
  },
  {
   "cell_type": "code",
   "execution_count": 35,
   "metadata": {
    "collapsed": true
   },
   "outputs": [
    {
     "data": {
      "text/plain": [
       "CustomerID\n",
       "12346.0    326\n",
       "12347.0      2\n",
       "12348.0     75\n",
       "12349.0     19\n",
       "12350.0    310\n",
       "12352.0     36\n",
       "12353.0    204\n",
       "12354.0    232\n",
       "12355.0    214\n",
       "12356.0     23\n",
       "12357.0     33\n",
       "12358.0      2\n",
       "12359.0      8\n",
       "12360.0     52\n",
       "12361.0    287\n",
       "12362.0      3\n",
       "12363.0    110\n",
       "12364.0      8\n",
       "12365.0    291\n",
       "12367.0      4\n",
       "12370.0     51\n",
       "12371.0     45\n",
       "12372.0     72\n",
       "12373.0    311\n",
       "12374.0     25\n",
       "12375.0      3\n",
       "12377.0    315\n",
       "12378.0    130\n",
       "12379.0     82\n",
       "12380.0     22\n",
       "          ... \n",
       "18245.0      7\n",
       "18246.0     24\n",
       "18248.0    114\n",
       "18249.0     17\n",
       "18250.0    301\n",
       "18251.0     87\n",
       "18252.0     51\n",
       "18255.0     89\n",
       "18256.0    355\n",
       "18257.0     39\n",
       "18259.0     25\n",
       "18260.0    173\n",
       "18261.0     43\n",
       "18262.0    140\n",
       "18263.0     23\n",
       "18265.0     72\n",
       "18268.0    134\n",
       "18269.0    358\n",
       "18270.0     38\n",
       "18272.0      3\n",
       "18273.0      2\n",
       "18274.0     18\n",
       "18276.0     21\n",
       "18277.0     58\n",
       "18278.0     74\n",
       "18280.0    278\n",
       "18281.0    181\n",
       "18282.0      8\n",
       "18283.0      4\n",
       "18287.0     43\n",
       "Name: Diff, Length: 4372, dtype: int64"
      ]
     },
     "execution_count": 35,
     "metadata": {},
     "output_type": "execute_result"
    }
   ],
   "source": [
    "data.groupby('CustomerID')['Diff'].min()"
   ]
  },
  {
   "cell_type": "code",
   "execution_count": 36,
   "metadata": {
    "collapsed": true
   },
   "outputs": [
    {
     "data": {
      "text/html": [
       "<div>\n",
       "<style scoped>\n",
       "    .dataframe tbody tr th:only-of-type {\n",
       "        vertical-align: middle;\n",
       "    }\n",
       "\n",
       "    .dataframe tbody tr th {\n",
       "        vertical-align: top;\n",
       "    }\n",
       "\n",
       "    .dataframe thead th {\n",
       "        text-align: right;\n",
       "    }\n",
       "</style>\n",
       "<table border=\"1\" class=\"dataframe\">\n",
       "  <thead>\n",
       "    <tr style=\"text-align: right;\">\n",
       "      <th></th>\n",
       "      <th>CustomerID</th>\n",
       "      <th>Diff</th>\n",
       "    </tr>\n",
       "  </thead>\n",
       "  <tbody>\n",
       "    <tr>\n",
       "      <th>0</th>\n",
       "      <td>12346.0</td>\n",
       "      <td>326</td>\n",
       "    </tr>\n",
       "    <tr>\n",
       "      <th>1</th>\n",
       "      <td>12347.0</td>\n",
       "      <td>2</td>\n",
       "    </tr>\n",
       "    <tr>\n",
       "      <th>2</th>\n",
       "      <td>12348.0</td>\n",
       "      <td>75</td>\n",
       "    </tr>\n",
       "    <tr>\n",
       "      <th>3</th>\n",
       "      <td>12349.0</td>\n",
       "      <td>19</td>\n",
       "    </tr>\n",
       "    <tr>\n",
       "      <th>4</th>\n",
       "      <td>12350.0</td>\n",
       "      <td>310</td>\n",
       "    </tr>\n",
       "  </tbody>\n",
       "</table>\n",
       "</div>"
      ],
      "text/plain": [
       "   CustomerID  Diff\n",
       "0     12346.0   326\n",
       "1     12347.0     2\n",
       "2     12348.0    75\n",
       "3     12349.0    19\n",
       "4     12350.0   310"
      ]
     },
     "execution_count": 36,
     "metadata": {},
     "output_type": "execute_result"
    }
   ],
   "source": [
    "recency = data.groupby('CustomerID')\\\n",
    "                    ['Diff'].min()\n",
    "recency = recency.reset_index()\n",
    "recency.head()"
   ]
  },
  {
   "cell_type": "code",
   "execution_count": 37,
   "metadata": {
    "collapsed": true
   },
   "outputs": [
    {
     "data": {
      "text/plain": [
       "573585     1114\n",
       "581219      749\n",
       "581492      731\n",
       "580729      721\n",
       "558475      705\n",
       "579777      687\n",
       "581217      676\n",
       "537434      675\n",
       "580730      662\n",
       "538071      652\n",
       "580367      650\n",
       "580115      645\n",
       "581439      635\n",
       "580983      629\n",
       "578344      622\n",
       "538349      620\n",
       "578347      606\n",
       "537638      601\n",
       "537237      597\n",
       "576617      593\n",
       "536876      593\n",
       "536592      592\n",
       "537823      591\n",
       "576837      585\n",
       "579508      578\n",
       "577078      572\n",
       "537240      568\n",
       "577358      561\n",
       "576618      552\n",
       "576840      544\n",
       "           ... \n",
       "C544117       1\n",
       "559603        1\n",
       "C538362       1\n",
       "556523        1\n",
       "573597        1\n",
       "572832        1\n",
       "546828        1\n",
       "575907        1\n",
       "566067        1\n",
       "547339        1\n",
       "542225        1\n",
       "549506        1\n",
       "560405        1\n",
       "C562876       1\n",
       "564844        1\n",
       "C541817       1\n",
       "558448        1\n",
       "576509        1\n",
       "554627        1\n",
       "538249        1\n",
       "C538696       1\n",
       "C537610       1\n",
       "573077        1\n",
       "557668        1\n",
       "C565085       1\n",
       "576666        1\n",
       "C548626       1\n",
       "569929        1\n",
       "C536642       1\n",
       "550757        1\n",
       "Name: InvoiceNo, Length: 25900, dtype: int64"
      ]
     },
     "execution_count": 37,
     "metadata": {},
     "output_type": "execute_result"
    }
   ],
   "source": [
    "data.InvoiceNo.value_counts()"
   ]
  },
  {
   "cell_type": "code",
   "execution_count": 38,
   "metadata": {
    "collapsed": true
   },
   "outputs": [
    {
     "data": {
      "text/plain": [
       "CustomerID\n",
       "12346.0      2\n",
       "12347.0    182\n",
       "12348.0     31\n",
       "12349.0     73\n",
       "12350.0     17\n",
       "12352.0     95\n",
       "12353.0      4\n",
       "12354.0     58\n",
       "12355.0     13\n",
       "12356.0     59\n",
       "12357.0    131\n",
       "12358.0     19\n",
       "12359.0    254\n",
       "12360.0    129\n",
       "12361.0     10\n",
       "12362.0    274\n",
       "12363.0     23\n",
       "12364.0     85\n",
       "12365.0     23\n",
       "12367.0     11\n",
       "12370.0    167\n",
       "12371.0     63\n",
       "12372.0     52\n",
       "12373.0     14\n",
       "12374.0     33\n",
       "12375.0     18\n",
       "12377.0     77\n",
       "12378.0    219\n",
       "12379.0     41\n",
       "12380.0    105\n",
       "          ... \n",
       "18245.0    177\n",
       "18246.0      4\n",
       "18248.0     49\n",
       "18249.0      8\n",
       "18250.0     22\n",
       "18251.0     16\n",
       "18252.0     98\n",
       "18255.0      6\n",
       "18256.0      4\n",
       "18257.0    123\n",
       "18259.0     42\n",
       "18260.0    140\n",
       "18261.0     21\n",
       "18262.0     13\n",
       "18263.0     62\n",
       "18265.0     46\n",
       "18268.0      2\n",
       "18269.0      8\n",
       "18270.0     13\n",
       "18272.0    170\n",
       "18273.0      3\n",
       "18274.0     22\n",
       "18276.0     16\n",
       "18277.0      9\n",
       "18278.0      9\n",
       "18280.0     10\n",
       "18281.0      7\n",
       "18282.0     13\n",
       "18283.0    756\n",
       "18287.0     70\n",
       "Name: InvoiceNo, Length: 4372, dtype: int64"
      ]
     },
     "execution_count": 38,
     "metadata": {},
     "output_type": "execute_result"
    }
   ],
   "source": [
    "data.groupby('CustomerID')['InvoiceNo'].count()"
   ]
  },
  {
   "cell_type": "code",
   "execution_count": 39,
   "metadata": {
    "collapsed": true
   },
   "outputs": [
    {
     "data": {
      "text/html": [
       "<div>\n",
       "<style scoped>\n",
       "    .dataframe tbody tr th:only-of-type {\n",
       "        vertical-align: middle;\n",
       "    }\n",
       "\n",
       "    .dataframe tbody tr th {\n",
       "        vertical-align: top;\n",
       "    }\n",
       "\n",
       "    .dataframe thead th {\n",
       "        text-align: right;\n",
       "    }\n",
       "</style>\n",
       "<table border=\"1\" class=\"dataframe\">\n",
       "  <thead>\n",
       "    <tr style=\"text-align: right;\">\n",
       "      <th></th>\n",
       "      <th>CustomerID</th>\n",
       "      <th>InvoiceNo</th>\n",
       "    </tr>\n",
       "  </thead>\n",
       "  <tbody>\n",
       "    <tr>\n",
       "      <th>0</th>\n",
       "      <td>12346.0</td>\n",
       "      <td>2</td>\n",
       "    </tr>\n",
       "    <tr>\n",
       "      <th>1</th>\n",
       "      <td>12347.0</td>\n",
       "      <td>182</td>\n",
       "    </tr>\n",
       "    <tr>\n",
       "      <th>2</th>\n",
       "      <td>12348.0</td>\n",
       "      <td>31</td>\n",
       "    </tr>\n",
       "    <tr>\n",
       "      <th>3</th>\n",
       "      <td>12349.0</td>\n",
       "      <td>73</td>\n",
       "    </tr>\n",
       "    <tr>\n",
       "      <th>4</th>\n",
       "      <td>12350.0</td>\n",
       "      <td>17</td>\n",
       "    </tr>\n",
       "  </tbody>\n",
       "</table>\n",
       "</div>"
      ],
      "text/plain": [
       "   CustomerID  InvoiceNo\n",
       "0     12346.0          2\n",
       "1     12347.0        182\n",
       "2     12348.0         31\n",
       "3     12349.0         73\n",
       "4     12350.0         17"
      ]
     },
     "execution_count": 39,
     "metadata": {},
     "output_type": "execute_result"
    }
   ],
   "source": [
    "frequency = data.groupby('CustomerID')\\\n",
    "                ['InvoiceNo'].count()\n",
    "frequency = frequency.reset_index()\n",
    "frequency.head()"
   ]
  },
  {
   "cell_type": "code",
   "execution_count": 40,
   "metadata": {
    "collapsed": true
   },
   "outputs": [
    {
     "data": {
      "text/html": [
       "<div>\n",
       "<style scoped>\n",
       "    .dataframe tbody tr th:only-of-type {\n",
       "        vertical-align: middle;\n",
       "    }\n",
       "\n",
       "    .dataframe tbody tr th {\n",
       "        vertical-align: top;\n",
       "    }\n",
       "\n",
       "    .dataframe thead th {\n",
       "        text-align: right;\n",
       "    }\n",
       "</style>\n",
       "<table border=\"1\" class=\"dataframe\">\n",
       "  <thead>\n",
       "    <tr style=\"text-align: right;\">\n",
       "      <th></th>\n",
       "      <th>CustomerID</th>\n",
       "      <th>Amount</th>\n",
       "      <th>InvoiceNo</th>\n",
       "      <th>Diff</th>\n",
       "    </tr>\n",
       "  </thead>\n",
       "  <tbody>\n",
       "    <tr>\n",
       "      <th>0</th>\n",
       "      <td>12346.0</td>\n",
       "      <td>0.00</td>\n",
       "      <td>2</td>\n",
       "      <td>326</td>\n",
       "    </tr>\n",
       "    <tr>\n",
       "      <th>1</th>\n",
       "      <td>12347.0</td>\n",
       "      <td>4310.00</td>\n",
       "      <td>182</td>\n",
       "      <td>2</td>\n",
       "    </tr>\n",
       "    <tr>\n",
       "      <th>2</th>\n",
       "      <td>12348.0</td>\n",
       "      <td>1797.24</td>\n",
       "      <td>31</td>\n",
       "      <td>75</td>\n",
       "    </tr>\n",
       "    <tr>\n",
       "      <th>3</th>\n",
       "      <td>12349.0</td>\n",
       "      <td>1757.55</td>\n",
       "      <td>73</td>\n",
       "      <td>19</td>\n",
       "    </tr>\n",
       "    <tr>\n",
       "      <th>4</th>\n",
       "      <td>12350.0</td>\n",
       "      <td>334.40</td>\n",
       "      <td>17</td>\n",
       "      <td>310</td>\n",
       "    </tr>\n",
       "  </tbody>\n",
       "</table>\n",
       "</div>"
      ],
      "text/plain": [
       "   CustomerID   Amount  InvoiceNo  Diff\n",
       "0     12346.0     0.00          2   326\n",
       "1     12347.0  4310.00        182     2\n",
       "2     12348.0  1797.24         31    75\n",
       "3     12349.0  1757.55         73    19\n",
       "4     12350.0   334.40         17   310"
      ]
     },
     "execution_count": 40,
     "metadata": {},
     "output_type": "execute_result"
    }
   ],
   "source": [
    "df = pd.merge(monetary,frequency,on='CustomerID')\n",
    "rfm = pd.merge(df,recency,on='CustomerID')\n",
    "rfm.head()"
   ]
  },
  {
   "cell_type": "code",
   "execution_count": 41,
   "metadata": {
    "collapsed": true
   },
   "outputs": [
    {
     "data": {
      "text/plain": [
       "CustomerID    0\n",
       "Amount        0\n",
       "InvoiceNo     0\n",
       "Diff          0\n",
       "dtype: int64"
      ]
     },
     "execution_count": 41,
     "metadata": {},
     "output_type": "execute_result"
    }
   ],
   "source": [
    "rfm.isnull().sum()"
   ]
  },
  {
   "cell_type": "code",
   "execution_count": 43,
   "metadata": {
    "collapsed": true
   },
   "outputs": [
    {
     "data": {
      "text/html": [
       "<div>\n",
       "<style scoped>\n",
       "    .dataframe tbody tr th:only-of-type {\n",
       "        vertical-align: middle;\n",
       "    }\n",
       "\n",
       "    .dataframe tbody tr th {\n",
       "        vertical-align: top;\n",
       "    }\n",
       "\n",
       "    .dataframe thead th {\n",
       "        text-align: right;\n",
       "    }\n",
       "</style>\n",
       "<table border=\"1\" class=\"dataframe\">\n",
       "  <thead>\n",
       "    <tr style=\"text-align: right;\">\n",
       "      <th></th>\n",
       "      <th>Amount</th>\n",
       "      <th>InvoiceNo</th>\n",
       "      <th>Diff</th>\n",
       "    </tr>\n",
       "    <tr>\n",
       "      <th>CustomerID</th>\n",
       "      <th></th>\n",
       "      <th></th>\n",
       "      <th></th>\n",
       "    </tr>\n",
       "  </thead>\n",
       "  <tbody>\n",
       "    <tr>\n",
       "      <th>12346.0</th>\n",
       "      <td>0.00</td>\n",
       "      <td>2</td>\n",
       "      <td>326</td>\n",
       "    </tr>\n",
       "    <tr>\n",
       "      <th>12347.0</th>\n",
       "      <td>4310.00</td>\n",
       "      <td>182</td>\n",
       "      <td>2</td>\n",
       "    </tr>\n",
       "    <tr>\n",
       "      <th>12348.0</th>\n",
       "      <td>1797.24</td>\n",
       "      <td>31</td>\n",
       "      <td>75</td>\n",
       "    </tr>\n",
       "    <tr>\n",
       "      <th>12349.0</th>\n",
       "      <td>1757.55</td>\n",
       "      <td>73</td>\n",
       "      <td>19</td>\n",
       "    </tr>\n",
       "    <tr>\n",
       "      <th>12350.0</th>\n",
       "      <td>334.40</td>\n",
       "      <td>17</td>\n",
       "      <td>310</td>\n",
       "    </tr>\n",
       "  </tbody>\n",
       "</table>\n",
       "</div>"
      ],
      "text/plain": [
       "             Amount  InvoiceNo  Diff\n",
       "CustomerID                          \n",
       "12346.0        0.00          2   326\n",
       "12347.0     4310.00        182     2\n",
       "12348.0     1797.24         31    75\n",
       "12349.0     1757.55         73    19\n",
       "12350.0      334.40         17   310"
      ]
     },
     "execution_count": 43,
     "metadata": {},
     "output_type": "execute_result"
    }
   ],
   "source": [
    "rfm.set_index('CustomerID',inplace=True)\n",
    "rfm.head()"
   ]
  },
  {
   "cell_type": "code",
   "execution_count": 44,
   "metadata": {
    "collapsed": true
   },
   "outputs": [
    {
     "data": {
      "text/html": [
       "<div>\n",
       "<style scoped>\n",
       "    .dataframe tbody tr th:only-of-type {\n",
       "        vertical-align: middle;\n",
       "    }\n",
       "\n",
       "    .dataframe tbody tr th {\n",
       "        vertical-align: top;\n",
       "    }\n",
       "\n",
       "    .dataframe thead th {\n",
       "        text-align: right;\n",
       "    }\n",
       "</style>\n",
       "<table border=\"1\" class=\"dataframe\">\n",
       "  <thead>\n",
       "    <tr style=\"text-align: right;\">\n",
       "      <th></th>\n",
       "      <th>Amount</th>\n",
       "      <th>InvoiceNo</th>\n",
       "      <th>Diff</th>\n",
       "    </tr>\n",
       "  </thead>\n",
       "  <tbody>\n",
       "    <tr>\n",
       "      <th>count</th>\n",
       "      <td>4372.000000</td>\n",
       "      <td>4372.000000</td>\n",
       "      <td>4372.000000</td>\n",
       "    </tr>\n",
       "    <tr>\n",
       "      <th>mean</th>\n",
       "      <td>1898.459701</td>\n",
       "      <td>93.053294</td>\n",
       "      <td>92.047118</td>\n",
       "    </tr>\n",
       "    <tr>\n",
       "      <th>std</th>\n",
       "      <td>8219.345141</td>\n",
       "      <td>232.471608</td>\n",
       "      <td>100.765435</td>\n",
       "    </tr>\n",
       "    <tr>\n",
       "      <th>min</th>\n",
       "      <td>-4287.630000</td>\n",
       "      <td>1.000000</td>\n",
       "      <td>1.000000</td>\n",
       "    </tr>\n",
       "    <tr>\n",
       "      <th>25%</th>\n",
       "      <td>293.362500</td>\n",
       "      <td>17.000000</td>\n",
       "      <td>17.000000</td>\n",
       "    </tr>\n",
       "    <tr>\n",
       "      <th>50%</th>\n",
       "      <td>648.075000</td>\n",
       "      <td>42.000000</td>\n",
       "      <td>50.000000</td>\n",
       "    </tr>\n",
       "    <tr>\n",
       "      <th>75%</th>\n",
       "      <td>1611.725000</td>\n",
       "      <td>102.000000</td>\n",
       "      <td>143.000000</td>\n",
       "    </tr>\n",
       "    <tr>\n",
       "      <th>max</th>\n",
       "      <td>279489.020000</td>\n",
       "      <td>7983.000000</td>\n",
       "      <td>374.000000</td>\n",
       "    </tr>\n",
       "  </tbody>\n",
       "</table>\n",
       "</div>"
      ],
      "text/plain": [
       "              Amount    InvoiceNo         Diff\n",
       "count    4372.000000  4372.000000  4372.000000\n",
       "mean     1898.459701    93.053294    92.047118\n",
       "std      8219.345141   232.471608   100.765435\n",
       "min     -4287.630000     1.000000     1.000000\n",
       "25%       293.362500    17.000000    17.000000\n",
       "50%       648.075000    42.000000    50.000000\n",
       "75%      1611.725000   102.000000   143.000000\n",
       "max    279489.020000  7983.000000   374.000000"
      ]
     },
     "execution_count": 44,
     "metadata": {},
     "output_type": "execute_result"
    }
   ],
   "source": [
    "rfm.describe()"
   ]
  },
  {
   "cell_type": "code",
   "execution_count": 77,
   "metadata": {},
   "outputs": [],
   "source": [
    "from sklearn.preprocessing import MinMaxScaler\n",
    "sc = MinMaxScaler()\n",
    "rfm_sc = sc.fit_transform(rfm)"
   ]
  },
  {
   "cell_type": "code",
   "execution_count": 78,
   "metadata": {},
   "outputs": [],
   "source": [
    "rfm_sc = pd.DataFrame(rfm_sc,\n",
    "    columns=['Monetary','Frequency','Recency'],\n",
    "    index = rfm.index)\n",
    "#rfm_sc.describe()"
   ]
  },
  {
   "cell_type": "code",
   "execution_count": 79,
   "metadata": {},
   "outputs": [
    {
     "data": {
      "text/html": [
       "<div>\n",
       "<style scoped>\n",
       "    .dataframe tbody tr th:only-of-type {\n",
       "        vertical-align: middle;\n",
       "    }\n",
       "\n",
       "    .dataframe tbody tr th {\n",
       "        vertical-align: top;\n",
       "    }\n",
       "\n",
       "    .dataframe thead th {\n",
       "        text-align: right;\n",
       "    }\n",
       "</style>\n",
       "<table border=\"1\" class=\"dataframe\">\n",
       "  <thead>\n",
       "    <tr style=\"text-align: right;\">\n",
       "      <th></th>\n",
       "      <th>Monetary</th>\n",
       "      <th>Frequency</th>\n",
       "      <th>Recency</th>\n",
       "    </tr>\n",
       "    <tr>\n",
       "      <th>CustomerID</th>\n",
       "      <th></th>\n",
       "      <th></th>\n",
       "      <th></th>\n",
       "    </tr>\n",
       "  </thead>\n",
       "  <tbody>\n",
       "    <tr>\n",
       "      <th>12346.0</th>\n",
       "      <td>0.015109</td>\n",
       "      <td>0.000125</td>\n",
       "      <td>0.871314</td>\n",
       "    </tr>\n",
       "    <tr>\n",
       "      <th>12347.0</th>\n",
       "      <td>0.030297</td>\n",
       "      <td>0.022676</td>\n",
       "      <td>0.002681</td>\n",
       "    </tr>\n",
       "    <tr>\n",
       "      <th>12348.0</th>\n",
       "      <td>0.021442</td>\n",
       "      <td>0.003758</td>\n",
       "      <td>0.198391</td>\n",
       "    </tr>\n",
       "    <tr>\n",
       "      <th>12349.0</th>\n",
       "      <td>0.021303</td>\n",
       "      <td>0.009020</td>\n",
       "      <td>0.048257</td>\n",
       "    </tr>\n",
       "    <tr>\n",
       "      <th>12350.0</th>\n",
       "      <td>0.016288</td>\n",
       "      <td>0.002005</td>\n",
       "      <td>0.828418</td>\n",
       "    </tr>\n",
       "  </tbody>\n",
       "</table>\n",
       "</div>"
      ],
      "text/plain": [
       "            Monetary  Frequency   Recency\n",
       "CustomerID                               \n",
       "12346.0     0.015109   0.000125  0.871314\n",
       "12347.0     0.030297   0.022676  0.002681\n",
       "12348.0     0.021442   0.003758  0.198391\n",
       "12349.0     0.021303   0.009020  0.048257\n",
       "12350.0     0.016288   0.002005  0.828418"
      ]
     },
     "execution_count": 79,
     "metadata": {},
     "output_type": "execute_result"
    }
   ],
   "source": [
    "rfm_sc.head()"
   ]
  },
  {
   "cell_type": "code",
   "execution_count": 48,
   "metadata": {},
   "outputs": [],
   "source": [
    "%matplotlib inline\n",
    "import matplotlib.pyplot as plt"
   ]
  },
  {
   "cell_type": "code",
   "execution_count": 50,
   "metadata": {
    "collapsed": true
   },
   "outputs": [
    {
     "data": {
      "text/plain": [
       "{'whiskers': [<matplotlib.lines.Line2D at 0x2468ceefcf8>,\n",
       "  <matplotlib.lines.Line2D at 0x2468ceefdd8>],\n",
       " 'caps': [<matplotlib.lines.Line2D at 0x2468ceff588>,\n",
       "  <matplotlib.lines.Line2D at 0x2468ceff9b0>],\n",
       " 'boxes': [<matplotlib.lines.Line2D at 0x2468ceef7b8>],\n",
       " 'medians': [<matplotlib.lines.Line2D at 0x2468ceffdd8>],\n",
       " 'fliers': [<matplotlib.lines.Line2D at 0x2468ceffeb8>],\n",
       " 'means': []}"
      ]
     },
     "execution_count": 50,
     "metadata": {},
     "output_type": "execute_result"
    },
    {
     "data": {
      "image/png": "[encoded data removed]",
      "text/plain": [
       "<Figure size 432x288 with 1 Axes>"
      ]
     },
     "metadata": {
      "needs_background": "light"
     },
     "output_type": "display_data"
    }
   ],
   "source": [
    "plt.boxplot(rfm_sc['Monetary'])"
   ]
  },
  {
   "cell_type": "code",
   "execution_count": 51,
   "metadata": {
    "collapsed": true
   },
   "outputs": [
    {
     "data": {
      "text/plain": [
       "{'whiskers': [<matplotlib.lines.Line2D at 0x2468cf7d8d0>,\n",
       "  <matplotlib.lines.Line2D at 0x2468cf7dcf8>],\n",
       " 'caps': [<matplotlib.lines.Line2D at 0x2468cf7ddd8>,\n",
       "  <matplotlib.lines.Line2D at 0x2468cf86588>],\n",
       " 'boxes': [<matplotlib.lines.Line2D at 0x2468cf7d390>],\n",
       " 'medians': [<matplotlib.lines.Line2D at 0x2468cf869b0>],\n",
       " 'fliers': [<matplotlib.lines.Line2D at 0x2468cf86dd8>],\n",
       " 'means': []}"
      ]
     },
     "execution_count": 51,
     "metadata": {},
     "output_type": "execute_result"
    },
    {
     "data": {
      "image/png": "[encoded data removed]",
      "text/plain": [
       "<Figure size 432x288 with 1 Axes>"
      ]
     },
     "metadata": {
      "needs_background": "light"
     },
     "output_type": "display_data"
    }
   ],
   "source": [
    "plt.boxplot(rfm_sc['Frequency'])"
   ]
  },
  {
   "cell_type": "code",
   "execution_count": 52,
   "metadata": {
    "collapsed": true
   },
   "outputs": [
    {
     "data": {
      "text/plain": [
       "{'whiskers': [<matplotlib.lines.Line2D at 0x2468cfd5f28>,\n",
       "  <matplotlib.lines.Line2D at 0x2468cfdf780>],\n",
       " 'caps': [<matplotlib.lines.Line2D at 0x2468cfdfba8>,\n",
       "  <matplotlib.lines.Line2D at 0x2468cfdffd0>],\n",
       " 'boxes': [<matplotlib.lines.Line2D at 0x2468cfd5dd8>],\n",
       " 'medians': [<matplotlib.lines.Line2D at 0x2468cfe8438>],\n",
       " 'fliers': [<matplotlib.lines.Line2D at 0x2468cfe8860>],\n",
       " 'means': []}"
      ]
     },
     "execution_count": 52,
     "metadata": {},
     "output_type": "execute_result"
    },
    {
     "data": {
      "image/png": "[encoded data removed]",
      "text/plain": [
       "<Figure size 432x288 with 1 Axes>"
      ]
     },
     "metadata": {
      "needs_background": "light"
     },
     "output_type": "display_data"
    }
   ],
   "source": [
    "plt.boxplot(rfm_sc['Recency'])"
   ]
  },
  {
   "cell_type": "code",
   "execution_count": 54,
   "metadata": {},
   "outputs": [],
   "source": [
    "import numpy as np\n",
    "q1 = np.quantile(rfm_sc['Monetary'],0.25)\n",
    "q2 = np.quantile(rfm_sc['Monetary'],0.50)\n",
    "q3 = np.quantile(rfm_sc['Monetary'],0.75)\n",
    "IQR = 1.5 *(q3-q1)\n",
    "mask = (rfm_sc['Monetary'] < q1-IQR) |\\\n",
    "        (rfm_sc['Monetary'] > q3+IQR)"
   ]
  },
  {
   "cell_type": "code",
   "execution_count": 55,
   "metadata": {
    "collapsed": true
   },
   "outputs": [
    {
     "data": {
      "text/plain": [
       "0    False\n",
       "1     True\n",
       "2    False\n",
       "3    False\n",
       "4    False\n",
       "5    False\n",
       "6    False\n",
       "7    False\n",
       "8    False\n",
       "9    False\n",
       "Name: Monetary, dtype: bool"
      ]
     },
     "execution_count": 55,
     "metadata": {},
     "output_type": "execute_result"
    }
   ],
   "source": [
    "mask[:10]"
   ]
  },
  {
   "cell_type": "code",
   "execution_count": 60,
   "metadata": {},
   "outputs": [
    {
     "data": {
      "text/plain": [
       "423"
      ]
     },
     "execution_count": 60,
     "metadata": {},
     "output_type": "execute_result"
    }
   ],
   "source": [
    "mask.sum()"
   ]
  },
  {
   "cell_type": "code",
   "execution_count": 59,
   "metadata": {
    "collapsed": true
   },
   "outputs": [
    {
     "name": "stdout",
     "output_type": "stream",
     "text": [
      "0.009174288124128613 0.02775738860121156\n"
     ]
    },
    {
     "data": {
      "text/plain": [
       "0.030297172089387904"
      ]
     },
     "execution_count": 59,
     "metadata": {},
     "output_type": "execute_result"
    }
   ],
   "source": [
    "print(q1-IQR,q3+IQR)\n",
    "rfm_sc['Monetary'][1]"
   ]
  },
  {
   "cell_type": "code",
   "execution_count": 61,
   "metadata": {},
   "outputs": [],
   "source": [
    "import numpy as np\n",
    "q1 = np.quantile(rfm_sc['Frequency'],0.25)\n",
    "q2 = np.quantile(rfm_sc['Frequency'],0.50)\n",
    "q3 = np.quantile(rfm_sc['Frequency'],0.75)\n",
    "IQR = 1.5 *(q3-q1)\n",
    "mask_freq = (rfm_sc['Frequency'] < q1-IQR) |\\\n",
    "        (rfm_sc['Frequency'] > q3+IQR)"
   ]
  },
  {
   "cell_type": "code",
   "execution_count": 62,
   "metadata": {},
   "outputs": [
    {
     "data": {
      "text/plain": [
       "380"
      ]
     },
     "execution_count": 62,
     "metadata": {},
     "output_type": "execute_result"
    }
   ],
   "source": [
    "mask_freq.sum()"
   ]
  },
  {
   "cell_type": "code",
   "execution_count": 63,
   "metadata": {},
   "outputs": [],
   "source": [
    "import numpy as np\n",
    "q1 = np.quantile(rfm_sc['Recency'],0.25)\n",
    "q2 = np.quantile(rfm_sc['Recency'],0.50)\n",
    "q3 = np.quantile(rfm_sc['Recency'],0.75)\n",
    "IQR = 1.5 *(q3-q1)\n",
    "mask_rec = (rfm_sc['Recency'] < q1-IQR) |\\\n",
    "        (rfm_sc['Recency'] > q3+IQR)"
   ]
  },
  {
   "cell_type": "code",
   "execution_count": 64,
   "metadata": {},
   "outputs": [
    {
     "data": {
      "text/plain": [
       "149"
      ]
     },
     "execution_count": 64,
     "metadata": {},
     "output_type": "execute_result"
    }
   ],
   "source": [
    "mask_rec.sum()"
   ]
  },
  {
   "cell_type": "code",
   "execution_count": 68,
   "metadata": {
    "collapsed": true
   },
   "outputs": [
    {
     "data": {
      "text/plain": [
       "238"
      ]
     },
     "execution_count": 68,
     "metadata": {},
     "output_type": "execute_result"
    }
   ],
   "source": [
    "outlier_index = mask & mask_freq\n",
    "outlier_index.sum()"
   ]
  },
  {
   "cell_type": "code",
   "execution_count": 69,
   "metadata": {
    "collapsed": true
   },
   "outputs": [
    {
     "name": "stderr",
     "output_type": "stream",
     "text": [
      "C:\\Users\\krish\\Anaconda3\\lib\\site-packages\\pandas\\core\\computation\\expressions.py:180: UserWarning: evaluating in Python space because the '*' operator is not supported by numexpr for the bool dtype, use '&' instead\n",
      "  .format(op=op_str, alt_op=unsupported[op_str]))\n"
     ]
    },
    {
     "data": {
      "text/plain": [
       "0"
      ]
     },
     "execution_count": 69,
     "metadata": {},
     "output_type": "execute_result"
    }
   ],
   "source": [
    "(outlier_index * mask_rec).sum()"
   ]
  },
  {
   "cell_type": "code",
   "execution_count": 80,
   "metadata": {
    "collapsed": true
   },
   "outputs": [
    {
     "data": {
      "text/plain": [
       "Float64Index([12359.0, 12362.0, 12415.0, 12428.0, 12431.0, 12433.0, 12451.0,\n",
       "              12471.0, 12472.0, 12474.0,\n",
       "              ...\n",
       "              17920.0, 17975.0, 18041.0, 18055.0, 18102.0, 18109.0, 18118.0,\n",
       "              18223.0, 18225.0, 18226.0],\n",
       "             dtype='float64', name='CustomerID', length=238)"
      ]
     },
     "execution_count": 80,
     "metadata": {},
     "output_type": "execute_result"
    }
   ],
   "source": [
    "rfm_sc.index[outlier_index]"
   ]
  },
  {
   "cell_type": "code",
   "execution_count": 81,
   "metadata": {
    "collapsed": true
   },
   "outputs": [
    {
     "name": "stdout",
     "output_type": "stream",
     "text": [
      "Help on method drop in module pandas.core.frame:\n",
      "\n",
      "drop(labels=None, axis=0, index=None, columns=None, level=None, inplace=False, errors='raise') method of pandas.core.frame.DataFrame instance\n",
      "    Drop specified labels from rows or columns.\n",
      "    \n",
      "    Remove rows or columns by specifying label names and corresponding\n",
      "    axis, or by specifying directly index or column names. When using a\n",
      "    multi-index, labels on different levels can be removed by specifying\n",
      "    the level.\n",
      "    \n",
      "    Parameters\n",
      "    ----------\n",
      "    labels : single label or list-like\n",
      "        Index or column labels to drop.\n",
      "    axis : {0 or 'index', 1 or 'columns'}, default 0\n",
      "        Whether to drop labels from the index (0 or 'index') or\n",
      "        columns (1 or 'columns').\n",
      "    index, columns : single label or list-like\n",
      "        Alternative to specifying axis (``labels, axis=1``\n",
      "        is equivalent to ``columns=labels``).\n",
      "    \n",
      "        .. versionadded:: 0.21.0\n",
      "    level : int or level name, optional\n",
      "        For MultiIndex, level from which the labels will be removed.\n",
      "    inplace : bool, default False\n",
      "        If True, do operation inplace and return None.\n",
      "    errors : {'ignore', 'raise'}, default 'raise'\n",
      "        If 'ignore', suppress error and only existing labels are\n",
      "        dropped.\n",
      "    \n",
      "    Returns\n",
      "    -------\n",
      "    dropped : pandas.DataFrame\n",
      "    \n",
      "    See Also\n",
      "    --------\n",
      "    DataFrame.loc : Label-location based indexer for selection by label.\n",
      "    DataFrame.dropna : Return DataFrame with labels on given axis omitted\n",
      "        where (all or any) data are missing\n",
      "    DataFrame.drop_duplicates : Return DataFrame with duplicate rows\n",
      "        removed, optionally only considering certain columns\n",
      "    Series.drop : Return Series with specified index labels removed.\n",
      "    \n",
      "    Raises\n",
      "    ------\n",
      "    KeyError\n",
      "        If none of the labels are found in the selected axis\n",
      "    \n",
      "    Examples\n",
      "    --------\n",
      "    >>> df = pd.DataFrame(np.arange(12).reshape(3,4),\n",
      "    ...                   columns=['A', 'B', 'C', 'D'])\n",
      "    >>> df\n",
      "       A  B   C   D\n",
      "    0  0  1   2   3\n",
      "    1  4  5   6   7\n",
      "    2  8  9  10  11\n",
      "    \n",
      "    Drop columns\n",
      "    \n",
      "    >>> df.drop(['B', 'C'], axis=1)\n",
      "       A   D\n",
      "    0  0   3\n",
      "    1  4   7\n",
      "    2  8  11\n",
      "    \n",
      "    >>> df.drop(columns=['B', 'C'])\n",
      "       A   D\n",
      "    0  0   3\n",
      "    1  4   7\n",
      "    2  8  11\n",
      "    \n",
      "    Drop a row by index\n",
      "    \n",
      "    >>> df.drop([0, 1])\n",
      "       A  B   C   D\n",
      "    2  8  9  10  11\n",
      "    \n",
      "    Drop columns and/or rows of MultiIndex DataFrame\n",
      "    \n",
      "    >>> midx = pd.MultiIndex(levels=[['lama', 'cow', 'falcon'],\n",
      "    ...                              ['speed', 'weight', 'length']],\n",
      "    ...                      labels=[[0, 0, 0, 1, 1, 1, 2, 2, 2],\n",
      "    ...                              [0, 1, 2, 0, 1, 2, 0, 1, 2]])\n",
      "    >>> df = pd.DataFrame(index=midx, columns=['big', 'small'],\n",
      "    ...                   data=[[45, 30], [200, 100], [1.5, 1], [30, 20],\n",
      "    ...                         [250, 150], [1.5, 0.8], [320, 250],\n",
      "    ...                         [1, 0.8], [0.3,0.2]])\n",
      "    >>> df\n",
      "                    big     small\n",
      "    lama    speed   45.0    30.0\n",
      "            weight  200.0   100.0\n",
      "            length  1.5     1.0\n",
      "    cow     speed   30.0    20.0\n",
      "            weight  250.0   150.0\n",
      "            length  1.5     0.8\n",
      "    falcon  speed   320.0   250.0\n",
      "            weight  1.0     0.8\n",
      "            length  0.3     0.2\n",
      "    \n",
      "    >>> df.drop(index='cow', columns='small')\n",
      "                    big\n",
      "    lama    speed   45.0\n",
      "            weight  200.0\n",
      "            length  1.5\n",
      "    falcon  speed   320.0\n",
      "            weight  1.0\n",
      "            length  0.3\n",
      "    \n",
      "    >>> df.drop(index='length', level=1)\n",
      "                    big     small\n",
      "    lama    speed   45.0    30.0\n",
      "            weight  200.0   100.0\n",
      "    cow     speed   30.0    20.0\n",
      "            weight  250.0   150.0\n",
      "    falcon  speed   320.0   250.0\n",
      "            weight  1.0     0.8\n",
      "\n"
     ]
    }
   ],
   "source": [
    "help(rfm_sc.drop)"
   ]
  },
  {
   "cell_type": "code",
   "execution_count": 83,
   "metadata": {
    "collapsed": true
   },
   "outputs": [
    {
     "data": {
      "text/html": [
       "<div>\n",
       "<style scoped>\n",
       "    .dataframe tbody tr th:only-of-type {\n",
       "        vertical-align: middle;\n",
       "    }\n",
       "\n",
       "    .dataframe tbody tr th {\n",
       "        vertical-align: top;\n",
       "    }\n",
       "\n",
       "    .dataframe thead th {\n",
       "        text-align: right;\n",
       "    }\n",
       "</style>\n",
       "<table border=\"1\" class=\"dataframe\">\n",
       "  <thead>\n",
       "    <tr style=\"text-align: right;\">\n",
       "      <th></th>\n",
       "      <th>Monetary</th>\n",
       "      <th>Frequency</th>\n",
       "      <th>Recency</th>\n",
       "    </tr>\n",
       "    <tr>\n",
       "      <th>CustomerID</th>\n",
       "      <th></th>\n",
       "      <th></th>\n",
       "      <th></th>\n",
       "    </tr>\n",
       "  </thead>\n",
       "  <tbody>\n",
       "    <tr>\n",
       "      <th>12346.0</th>\n",
       "      <td>0.015109</td>\n",
       "      <td>0.000125</td>\n",
       "      <td>0.871314</td>\n",
       "    </tr>\n",
       "    <tr>\n",
       "      <th>12347.0</th>\n",
       "      <td>0.030297</td>\n",
       "      <td>0.022676</td>\n",
       "      <td>0.002681</td>\n",
       "    </tr>\n",
       "    <tr>\n",
       "      <th>12348.0</th>\n",
       "      <td>0.021442</td>\n",
       "      <td>0.003758</td>\n",
       "      <td>0.198391</td>\n",
       "    </tr>\n",
       "    <tr>\n",
       "      <th>12349.0</th>\n",
       "      <td>0.021303</td>\n",
       "      <td>0.009020</td>\n",
       "      <td>0.048257</td>\n",
       "    </tr>\n",
       "    <tr>\n",
       "      <th>12350.0</th>\n",
       "      <td>0.016288</td>\n",
       "      <td>0.002005</td>\n",
       "      <td>0.828418</td>\n",
       "    </tr>\n",
       "    <tr>\n",
       "      <th>12352.0</th>\n",
       "      <td>0.020555</td>\n",
       "      <td>0.011776</td>\n",
       "      <td>0.093834</td>\n",
       "    </tr>\n",
       "    <tr>\n",
       "      <th>12353.0</th>\n",
       "      <td>0.015423</td>\n",
       "      <td>0.000376</td>\n",
       "      <td>0.544236</td>\n",
       "    </tr>\n",
       "    <tr>\n",
       "      <th>12354.0</th>\n",
       "      <td>0.018913</td>\n",
       "      <td>0.007141</td>\n",
       "      <td>0.619303</td>\n",
       "    </tr>\n",
       "    <tr>\n",
       "      <th>12355.0</th>\n",
       "      <td>0.016728</td>\n",
       "      <td>0.001503</td>\n",
       "      <td>0.571046</td>\n",
       "    </tr>\n",
       "    <tr>\n",
       "      <th>12356.0</th>\n",
       "      <td>0.025016</td>\n",
       "      <td>0.007266</td>\n",
       "      <td>0.058981</td>\n",
       "    </tr>\n",
       "    <tr>\n",
       "      <th>12357.0</th>\n",
       "      <td>0.036984</td>\n",
       "      <td>0.016287</td>\n",
       "      <td>0.085791</td>\n",
       "    </tr>\n",
       "    <tr>\n",
       "      <th>12358.0</th>\n",
       "      <td>0.019225</td>\n",
       "      <td>0.002255</td>\n",
       "      <td>0.002681</td>\n",
       "    </tr>\n",
       "    <tr>\n",
       "      <th>12360.0</th>\n",
       "      <td>0.024490</td>\n",
       "      <td>0.016036</td>\n",
       "      <td>0.136729</td>\n",
       "    </tr>\n",
       "    <tr>\n",
       "      <th>12361.0</th>\n",
       "      <td>0.015778</td>\n",
       "      <td>0.001128</td>\n",
       "      <td>0.766756</td>\n",
       "    </tr>\n",
       "    <tr>\n",
       "      <th>12363.0</th>\n",
       "      <td>0.017054</td>\n",
       "      <td>0.002756</td>\n",
       "      <td>0.292225</td>\n",
       "    </tr>\n",
       "    <tr>\n",
       "      <th>12364.0</th>\n",
       "      <td>0.019736</td>\n",
       "      <td>0.010524</td>\n",
       "      <td>0.018767</td>\n",
       "    </tr>\n",
       "    <tr>\n",
       "      <th>12365.0</th>\n",
       "      <td>0.016239</td>\n",
       "      <td>0.002756</td>\n",
       "      <td>0.777480</td>\n",
       "    </tr>\n",
       "    <tr>\n",
       "      <th>12367.0</th>\n",
       "      <td>0.015704</td>\n",
       "      <td>0.001253</td>\n",
       "      <td>0.008043</td>\n",
       "    </tr>\n",
       "    <tr>\n",
       "      <th>12370.0</th>\n",
       "      <td>0.027604</td>\n",
       "      <td>0.020797</td>\n",
       "      <td>0.134048</td>\n",
       "    </tr>\n",
       "    <tr>\n",
       "      <th>12371.0</th>\n",
       "      <td>0.021762</td>\n",
       "      <td>0.007767</td>\n",
       "      <td>0.117962</td>\n",
       "    </tr>\n",
       "    <tr>\n",
       "      <th>12372.0</th>\n",
       "      <td>0.019683</td>\n",
       "      <td>0.006389</td>\n",
       "      <td>0.190349</td>\n",
       "    </tr>\n",
       "    <tr>\n",
       "      <th>12373.0</th>\n",
       "      <td>0.016394</td>\n",
       "      <td>0.001629</td>\n",
       "      <td>0.831099</td>\n",
       "    </tr>\n",
       "    <tr>\n",
       "      <th>12374.0</th>\n",
       "      <td>0.017727</td>\n",
       "      <td>0.004009</td>\n",
       "      <td>0.064343</td>\n",
       "    </tr>\n",
       "    <tr>\n",
       "      <th>12375.0</th>\n",
       "      <td>0.016714</td>\n",
       "      <td>0.002130</td>\n",
       "      <td>0.005362</td>\n",
       "    </tr>\n",
       "    <tr>\n",
       "      <th>12377.0</th>\n",
       "      <td>0.020847</td>\n",
       "      <td>0.009521</td>\n",
       "      <td>0.841823</td>\n",
       "    </tr>\n",
       "    <tr>\n",
       "      <th>12378.0</th>\n",
       "      <td>0.029235</td>\n",
       "      <td>0.027311</td>\n",
       "      <td>0.345845</td>\n",
       "    </tr>\n",
       "    <tr>\n",
       "      <th>12379.0</th>\n",
       "      <td>0.018106</td>\n",
       "      <td>0.005011</td>\n",
       "      <td>0.217158</td>\n",
       "    </tr>\n",
       "    <tr>\n",
       "      <th>12380.0</th>\n",
       "      <td>0.024696</td>\n",
       "      <td>0.013029</td>\n",
       "      <td>0.056300</td>\n",
       "    </tr>\n",
       "    <tr>\n",
       "      <th>12381.0</th>\n",
       "      <td>0.021466</td>\n",
       "      <td>0.011275</td>\n",
       "      <td>0.010724</td>\n",
       "    </tr>\n",
       "    <tr>\n",
       "      <th>12383.0</th>\n",
       "      <td>0.021591</td>\n",
       "      <td>0.012403</td>\n",
       "      <td>0.493298</td>\n",
       "    </tr>\n",
       "    <tr>\n",
       "      <th>...</th>\n",
       "      <td>...</td>\n",
       "      <td>...</td>\n",
       "      <td>...</td>\n",
       "    </tr>\n",
       "    <tr>\n",
       "      <th>18245.0</th>\n",
       "      <td>0.023946</td>\n",
       "      <td>0.022050</td>\n",
       "      <td>0.016086</td>\n",
       "    </tr>\n",
       "    <tr>\n",
       "      <th>18246.0</th>\n",
       "      <td>0.017210</td>\n",
       "      <td>0.000376</td>\n",
       "      <td>0.061662</td>\n",
       "    </tr>\n",
       "    <tr>\n",
       "      <th>18248.0</th>\n",
       "      <td>0.017868</td>\n",
       "      <td>0.006014</td>\n",
       "      <td>0.302949</td>\n",
       "    </tr>\n",
       "    <tr>\n",
       "      <th>18249.0</th>\n",
       "      <td>0.015445</td>\n",
       "      <td>0.000877</td>\n",
       "      <td>0.042895</td>\n",
       "    </tr>\n",
       "    <tr>\n",
       "      <th>18250.0</th>\n",
       "      <td>0.016318</td>\n",
       "      <td>0.002631</td>\n",
       "      <td>0.804290</td>\n",
       "    </tr>\n",
       "    <tr>\n",
       "      <th>18251.0</th>\n",
       "      <td>0.030314</td>\n",
       "      <td>0.001879</td>\n",
       "      <td>0.230563</td>\n",
       "    </tr>\n",
       "    <tr>\n",
       "      <th>18252.0</th>\n",
       "      <td>0.016965</td>\n",
       "      <td>0.012152</td>\n",
       "      <td>0.134048</td>\n",
       "    </tr>\n",
       "    <tr>\n",
       "      <th>18255.0</th>\n",
       "      <td>0.015473</td>\n",
       "      <td>0.000626</td>\n",
       "      <td>0.235925</td>\n",
       "    </tr>\n",
       "    <tr>\n",
       "      <th>18256.0</th>\n",
       "      <td>0.014933</td>\n",
       "      <td>0.000376</td>\n",
       "      <td>0.949062</td>\n",
       "    </tr>\n",
       "    <tr>\n",
       "      <th>18257.0</th>\n",
       "      <td>0.023092</td>\n",
       "      <td>0.015284</td>\n",
       "      <td>0.101877</td>\n",
       "    </tr>\n",
       "    <tr>\n",
       "      <th>18259.0</th>\n",
       "      <td>0.023350</td>\n",
       "      <td>0.005137</td>\n",
       "      <td>0.064343</td>\n",
       "    </tr>\n",
       "    <tr>\n",
       "      <th>18260.0</th>\n",
       "      <td>0.024254</td>\n",
       "      <td>0.017414</td>\n",
       "      <td>0.461126</td>\n",
       "    </tr>\n",
       "    <tr>\n",
       "      <th>18261.0</th>\n",
       "      <td>0.016252</td>\n",
       "      <td>0.002506</td>\n",
       "      <td>0.112601</td>\n",
       "    </tr>\n",
       "    <tr>\n",
       "      <th>18262.0</th>\n",
       "      <td>0.015636</td>\n",
       "      <td>0.001503</td>\n",
       "      <td>0.372654</td>\n",
       "    </tr>\n",
       "    <tr>\n",
       "      <th>18263.0</th>\n",
       "      <td>0.019377</td>\n",
       "      <td>0.007642</td>\n",
       "      <td>0.058981</td>\n",
       "    </tr>\n",
       "    <tr>\n",
       "      <th>18265.0</th>\n",
       "      <td>0.017934</td>\n",
       "      <td>0.005638</td>\n",
       "      <td>0.190349</td>\n",
       "    </tr>\n",
       "    <tr>\n",
       "      <th>18268.0</th>\n",
       "      <td>0.015109</td>\n",
       "      <td>0.000125</td>\n",
       "      <td>0.356568</td>\n",
       "    </tr>\n",
       "    <tr>\n",
       "      <th>18269.0</th>\n",
       "      <td>0.015599</td>\n",
       "      <td>0.000877</td>\n",
       "      <td>0.957105</td>\n",
       "    </tr>\n",
       "    <tr>\n",
       "      <th>18270.0</th>\n",
       "      <td>0.015951</td>\n",
       "      <td>0.001503</td>\n",
       "      <td>0.099196</td>\n",
       "    </tr>\n",
       "    <tr>\n",
       "      <th>18272.0</th>\n",
       "      <td>0.025909</td>\n",
       "      <td>0.021173</td>\n",
       "      <td>0.005362</td>\n",
       "    </tr>\n",
       "    <tr>\n",
       "      <th>18273.0</th>\n",
       "      <td>0.015828</td>\n",
       "      <td>0.000251</td>\n",
       "      <td>0.002681</td>\n",
       "    </tr>\n",
       "    <tr>\n",
       "      <th>18274.0</th>\n",
       "      <td>0.015109</td>\n",
       "      <td>0.002631</td>\n",
       "      <td>0.045576</td>\n",
       "    </tr>\n",
       "    <tr>\n",
       "      <th>18276.0</th>\n",
       "      <td>0.016249</td>\n",
       "      <td>0.001879</td>\n",
       "      <td>0.053619</td>\n",
       "    </tr>\n",
       "    <tr>\n",
       "      <th>18277.0</th>\n",
       "      <td>0.015453</td>\n",
       "      <td>0.001002</td>\n",
       "      <td>0.152815</td>\n",
       "    </tr>\n",
       "    <tr>\n",
       "      <th>18278.0</th>\n",
       "      <td>0.015722</td>\n",
       "      <td>0.001002</td>\n",
       "      <td>0.195710</td>\n",
       "    </tr>\n",
       "    <tr>\n",
       "      <th>18280.0</th>\n",
       "      <td>0.015746</td>\n",
       "      <td>0.001128</td>\n",
       "      <td>0.742627</td>\n",
       "    </tr>\n",
       "    <tr>\n",
       "      <th>18281.0</th>\n",
       "      <td>0.015394</td>\n",
       "      <td>0.000752</td>\n",
       "      <td>0.482574</td>\n",
       "    </tr>\n",
       "    <tr>\n",
       "      <th>18282.0</th>\n",
       "      <td>0.015731</td>\n",
       "      <td>0.001503</td>\n",
       "      <td>0.018767</td>\n",
       "    </tr>\n",
       "    <tr>\n",
       "      <th>18283.0</th>\n",
       "      <td>0.022491</td>\n",
       "      <td>0.094588</td>\n",
       "      <td>0.008043</td>\n",
       "    </tr>\n",
       "    <tr>\n",
       "      <th>18287.0</th>\n",
       "      <td>0.021584</td>\n",
       "      <td>0.008644</td>\n",
       "      <td>0.112601</td>\n",
       "    </tr>\n",
       "  </tbody>\n",
       "</table>\n",
       "<p>4134 rows × 3 columns</p>\n",
       "</div>"
      ],
      "text/plain": [
       "            Monetary  Frequency   Recency\n",
       "CustomerID                               \n",
       "12346.0     0.015109   0.000125  0.871314\n",
       "12347.0     0.030297   0.022676  0.002681\n",
       "12348.0     0.021442   0.003758  0.198391\n",
       "12349.0     0.021303   0.009020  0.048257\n",
       "12350.0     0.016288   0.002005  0.828418\n",
       "12352.0     0.020555   0.011776  0.093834\n",
       "12353.0     0.015423   0.000376  0.544236\n",
       "12354.0     0.018913   0.007141  0.619303\n",
       "12355.0     0.016728   0.001503  0.571046\n",
       "12356.0     0.025016   0.007266  0.058981\n",
       "12357.0     0.036984   0.016287  0.085791\n",
       "12358.0     0.019225   0.002255  0.002681\n",
       "12360.0     0.024490   0.016036  0.136729\n",
       "12361.0     0.015778   0.001128  0.766756\n",
       "12363.0     0.017054   0.002756  0.292225\n",
       "12364.0     0.019736   0.010524  0.018767\n",
       "12365.0     0.016239   0.002756  0.777480\n",
       "12367.0     0.015704   0.001253  0.008043\n",
       "12370.0     0.027604   0.020797  0.134048\n",
       "12371.0     0.021762   0.007767  0.117962\n",
       "12372.0     0.019683   0.006389  0.190349\n",
       "12373.0     0.016394   0.001629  0.831099\n",
       "12374.0     0.017727   0.004009  0.064343\n",
       "12375.0     0.016714   0.002130  0.005362\n",
       "12377.0     0.020847   0.009521  0.841823\n",
       "12378.0     0.029235   0.027311  0.345845\n",
       "12379.0     0.018106   0.005011  0.217158\n",
       "12380.0     0.024696   0.013029  0.056300\n",
       "12381.0     0.021466   0.011275  0.010724\n",
       "12383.0     0.021591   0.012403  0.493298\n",
       "...              ...        ...       ...\n",
       "18245.0     0.023946   0.022050  0.016086\n",
       "18246.0     0.017210   0.000376  0.061662\n",
       "18248.0     0.017868   0.006014  0.302949\n",
       "18249.0     0.015445   0.000877  0.042895\n",
       "18250.0     0.016318   0.002631  0.804290\n",
       "18251.0     0.030314   0.001879  0.230563\n",
       "18252.0     0.016965   0.012152  0.134048\n",
       "18255.0     0.015473   0.000626  0.235925\n",
       "18256.0     0.014933   0.000376  0.949062\n",
       "18257.0     0.023092   0.015284  0.101877\n",
       "18259.0     0.023350   0.005137  0.064343\n",
       "18260.0     0.024254   0.017414  0.461126\n",
       "18261.0     0.016252   0.002506  0.112601\n",
       "18262.0     0.015636   0.001503  0.372654\n",
       "18263.0     0.019377   0.007642  0.058981\n",
       "18265.0     0.017934   0.005638  0.190349\n",
       "18268.0     0.015109   0.000125  0.356568\n",
       "18269.0     0.015599   0.000877  0.957105\n",
       "18270.0     0.015951   0.001503  0.099196\n",
       "18272.0     0.025909   0.021173  0.005362\n",
       "18273.0     0.015828   0.000251  0.002681\n",
       "18274.0     0.015109   0.002631  0.045576\n",
       "18276.0     0.016249   0.001879  0.053619\n",
       "18277.0     0.015453   0.001002  0.152815\n",
       "18278.0     0.015722   0.001002  0.195710\n",
       "18280.0     0.015746   0.001128  0.742627\n",
       "18281.0     0.015394   0.000752  0.482574\n",
       "18282.0     0.015731   0.001503  0.018767\n",
       "18283.0     0.022491   0.094588  0.008043\n",
       "18287.0     0.021584   0.008644  0.112601\n",
       "\n",
       "[4134 rows x 3 columns]"
      ]
     },
     "execution_count": 83,
     "metadata": {},
     "output_type": "execute_result"
    }
   ],
   "source": [
    "rfm_sc.drop(rfm_sc.index[outlier_index])"
   ]
  },
  {
   "cell_type": "code",
   "execution_count": 85,
   "metadata": {},
   "outputs": [
    {
     "data": {
      "text/plain": [
       "(4134, 3)"
      ]
     },
     "execution_count": 85,
     "metadata": {},
     "output_type": "execute_result"
    }
   ],
   "source": [
    "rfm_new=rfm_sc.drop(rfm_sc.index[outlier_index])\n",
    "rfm_new.shape"
   ]
  },
  {
   "cell_type": "code",
   "execution_count": 84,
   "metadata": {},
   "outputs": [
    {
     "data": {
      "text/plain": [
       "(4372, 3)"
      ]
     },
     "execution_count": 84,
     "metadata": {},
     "output_type": "execute_result"
    }
   ],
   "source": [
    "rfm_sc.shape"
   ]
  },
  {
   "cell_type": "code",
   "execution_count": 86,
   "metadata": {},
   "outputs": [],
   "source": [
    "from sklearn.cluster import KMeans\n",
    "km = KMeans()\n",
    "km.fit(rfm_new)\n",
    "y_pred = km.predict(rfm_new)"
   ]
  },
  {
   "cell_type": "code",
   "execution_count": 88,
   "metadata": {},
   "outputs": [
    {
     "data": {
      "text/plain": [
       "array([2, 5, 4, ..., 5, 5, 1])"
      ]
     },
     "execution_count": 88,
     "metadata": {},
     "output_type": "execute_result"
    }
   ],
   "source": [
    "y_pred"
   ]
  },
  {
   "cell_type": "code",
   "execution_count": 89,
   "metadata": {
    "collapsed": true
   },
   "outputs": [
    {
     "data": {
      "text/plain": [
       "5    1274\n",
       "1     829\n",
       "4     671\n",
       "3     379\n",
       "0     346\n",
       "6     277\n",
       "2     216\n",
       "7     142\n",
       "dtype: int64"
      ]
     },
     "execution_count": 89,
     "metadata": {},
     "output_type": "execute_result"
    }
   ],
   "source": [
    "pd.Series(y_pred).value_counts()"
   ]
  },
  {
   "cell_type": "code",
   "execution_count": 90,
   "metadata": {},
   "outputs": [
    {
     "data": {
      "text/plain": [
       "4.832599596657646"
      ]
     },
     "execution_count": 90,
     "metadata": {},
     "output_type": "execute_result"
    }
   ],
   "source": [
    "km.inertia_"
   ]
  },
  {
   "cell_type": "code",
   "execution_count": 93,
   "metadata": {},
   "outputs": [],
   "source": [
    "k ={}\n",
    "for i in range(2,15):\n",
    "    km = KMeans(i)\n",
    "    km.fit(rfm_new)\n",
    "    k[i] = km.inertia_\n",
    "    "
   ]
  },
  {
   "cell_type": "code",
   "execution_count": 94,
   "metadata": {
    "collapsed": true
   },
   "outputs": [
    {
     "data": {
      "text/plain": [
       "{2: 64.31448364708234,\n",
       " 3: 30.57254793820174,\n",
       " 4: 17.86918378125339,\n",
       " 5: 11.186251510126176,\n",
       " 6: 7.9267180142643126,\n",
       " 7: 6.191389731801666,\n",
       " 8: 4.832610580965474,\n",
       " 9: 3.8120188061533318,\n",
       " 10: 3.14687146657372,\n",
       " 11: 2.624805043156907,\n",
       " 12: 2.286777361029154,\n",
       " 13: 2.001272805287466,\n",
       " 14: 1.8075364999727637}"
      ]
     },
     "execution_count": 94,
     "metadata": {},
     "output_type": "execute_result"
    }
   ],
   "source": [
    "k"
   ]
  },
  {
   "cell_type": "code",
   "execution_count": 95,
   "metadata": {
    "collapsed": true
   },
   "outputs": [
    {
     "data": {
      "text/plain": [
       "[<matplotlib.lines.Line2D at 0x2468d8b54a8>]"
      ]
     },
     "execution_count": 95,
     "metadata": {},
     "output_type": "execute_result"
    },
    {
     "data": {
      "image/png": "[encoded data removed]",
      "text/plain": [
       "<Figure size 432x288 with 1 Axes>"
      ]
     },
     "metadata": {
      "needs_background": "light"
     },
     "output_type": "display_data"
    }
   ],
   "source": [
    "plt.plot(list(k.keys()),list(k.values()))"
   ]
  },
  {
   "cell_type": "code",
   "execution_count": 96,
   "metadata": {},
   "outputs": [],
   "source": [
    "k1 ={}\n",
    "for i in range(2,15):\n",
    "    km = KMeans(i)\n",
    "    km.fit(rfm_sc)\n",
    "    k1[i] = km.inertia_"
   ]
  },
  {
   "cell_type": "code",
   "execution_count": 97,
   "metadata": {
    "collapsed": true
   },
   "outputs": [
    {
     "data": {
      "text/plain": [
       "[<matplotlib.lines.Line2D at 0x2468d9192e8>]"
      ]
     },
     "execution_count": 97,
     "metadata": {},
     "output_type": "execute_result"
    },
    {
     "data": {
      "image/png": "[encoded data removed]",
      "text/plain": [
       "<Figure size 432x288 with 1 Axes>"
      ]
     },
     "metadata": {
      "needs_background": "light"
     },
     "output_type": "display_data"
    }
   ],
   "source": [
    "plt.plot(list(k1.keys()),list(k1.values()))"
   ]
  },
  {
   "cell_type": "code",
   "execution_count": 98,
   "metadata": {},
   "outputs": [
    {
     "data": {
      "text/plain": [
       "KMeans(algorithm='auto', copy_x=True, init='k-means++', max_iter=300,\n",
       "    n_clusters=4, n_init=10, n_jobs=1, precompute_distances='auto',\n",
       "    random_state=None, tol=0.0001, verbose=0)"
      ]
     },
     "execution_count": 98,
     "metadata": {},
     "output_type": "execute_result"
    }
   ],
   "source": [
    "km = KMeans(4)\n",
    "km.fit(rfm_new)"
   ]
  },
  {
   "cell_type": "code",
   "execution_count": 100,
   "metadata": {},
   "outputs": [
    {
     "data": {
      "text/html": [
       "<div>\n",
       "<style scoped>\n",
       "    .dataframe tbody tr th:only-of-type {\n",
       "        vertical-align: middle;\n",
       "    }\n",
       "\n",
       "    .dataframe tbody tr th {\n",
       "        vertical-align: top;\n",
       "    }\n",
       "\n",
       "    .dataframe thead th {\n",
       "        text-align: right;\n",
       "    }\n",
       "</style>\n",
       "<table border=\"1\" class=\"dataframe\">\n",
       "  <thead>\n",
       "    <tr style=\"text-align: right;\">\n",
       "      <th></th>\n",
       "      <th>Monetary</th>\n",
       "      <th>Frequency</th>\n",
       "      <th>Recency</th>\n",
       "      <th>cluster</th>\n",
       "    </tr>\n",
       "    <tr>\n",
       "      <th>CustomerID</th>\n",
       "      <th></th>\n",
       "      <th></th>\n",
       "      <th></th>\n",
       "      <th></th>\n",
       "    </tr>\n",
       "  </thead>\n",
       "  <tbody>\n",
       "    <tr>\n",
       "      <th>12346.0</th>\n",
       "      <td>0.015109</td>\n",
       "      <td>0.000125</td>\n",
       "      <td>0.871314</td>\n",
       "      <td>3</td>\n",
       "    </tr>\n",
       "    <tr>\n",
       "      <th>12347.0</th>\n",
       "      <td>0.030297</td>\n",
       "      <td>0.022676</td>\n",
       "      <td>0.002681</td>\n",
       "      <td>2</td>\n",
       "    </tr>\n",
       "    <tr>\n",
       "      <th>12348.0</th>\n",
       "      <td>0.021442</td>\n",
       "      <td>0.003758</td>\n",
       "      <td>0.198391</td>\n",
       "      <td>0</td>\n",
       "    </tr>\n",
       "    <tr>\n",
       "      <th>12349.0</th>\n",
       "      <td>0.021303</td>\n",
       "      <td>0.009020</td>\n",
       "      <td>0.048257</td>\n",
       "      <td>2</td>\n",
       "    </tr>\n",
       "    <tr>\n",
       "      <th>12350.0</th>\n",
       "      <td>0.016288</td>\n",
       "      <td>0.002005</td>\n",
       "      <td>0.828418</td>\n",
       "      <td>3</td>\n",
       "    </tr>\n",
       "  </tbody>\n",
       "</table>\n",
       "</div>"
      ],
      "text/plain": [
       "            Monetary  Frequency   Recency  cluster\n",
       "CustomerID                                        \n",
       "12346.0     0.015109   0.000125  0.871314        3\n",
       "12347.0     0.030297   0.022676  0.002681        2\n",
       "12348.0     0.021442   0.003758  0.198391        0\n",
       "12349.0     0.021303   0.009020  0.048257        2\n",
       "12350.0     0.016288   0.002005  0.828418        3"
      ]
     },
     "execution_count": 100,
     "metadata": {},
     "output_type": "execute_result"
    }
   ],
   "source": [
    "full = rfm_new.copy()\n",
    "full['cluster'] = km.predict(rfm_new)\n",
    "full.head()"
   ]
  },
  {
   "cell_type": "code",
   "execution_count": null,
   "metadata": {},
   "outputs": [],
   "source": []
  }
 ],
 "metadata": {
  "kernelspec": {
   "display_name": "Python 3",
   "language": "python",
   "name": "python3"
  },
  "language_info": {
   "codemirror_mode": {
    "name": "ipython",
    "version": 3
   },
   "file_extension": ".py",
   "mimetype": "text/x-python",
   "name": "python",
   "nbconvert_exporter": "python",
   "pygments_lexer": "ipython3",
   "version": "3.7.0"
  }
 },
 "nbformat": 4,
 "nbformat_minor": 2
}
